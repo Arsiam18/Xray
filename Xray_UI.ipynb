{
  "nbformat": 4,
  "nbformat_minor": 0,
  "metadata": {
    "colab": {
      "private_outputs": true,
      "provenance": []
    },
    "kernelspec": {
      "name": "python3",
      "display_name": "Python 3"
    },
    "language_info": {
      "name": "python"
    }
  },
  "cells": [
    {
      "cell_type": "code",
      "source": [
        "pip install gradio"
      ],
      "metadata": {
        "id": "1H-LzEvlw4tX"
      },
      "execution_count": null,
      "outputs": []
    },
    {
      "cell_type": "code",
      "execution_count": null,
      "metadata": {
        "id": "ShRVP20PvTwf"
      },
      "outputs": [],
      "source": [
        "import gradio as gr\n",
        "\n",
        "def predict(image):\n",
        "    # Your image processing and model prediction code here\n",
        "    # Return the prediction or processed image\n",
        "    return prediction_or_processed_image\n",
        "\n",
        "iface = gr.Interface(\n",
        "    fn=predict,\n",
        "    inputs=gr.Image(),  # Gradio automatically handles image input\n",
        "    outputs=gr.Image(),  # Gradio also handles image output\n",
        "    live=True\n",
        ")\n",
        "iface.launch()"
      ]
    },
    {
      "cell_type": "code",
      "source": [],
      "metadata": {
        "id": "JNFHfOr2xXkY"
      },
      "execution_count": null,
      "outputs": []
    }
  ]
}